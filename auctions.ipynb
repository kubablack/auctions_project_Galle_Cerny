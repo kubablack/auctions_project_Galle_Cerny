{
 "cells": [
  {
   "attachments": {
    "logo.png": {
     "image/png": "[encoded data removed]"
    }
   },
   "cell_type": "markdown",
   "metadata": {},
   "source": [
    "![logo.png](attachment:logo.png)"
   ]
  },
  {
   "cell_type": "markdown",
   "metadata": {},
   "source": [
    "### Dynamic scraper\n",
    "#### Goal\n",
    "As the title suggests, the first section incorporates a data scraper. Its goal is to crawl through https://www.portaldrazeb.cz and to collect actual data about auctions and auctioneers. It also scrapes lists of all possible auction attributes which we will subsequently use to filter the auctions with respect to location, type, etc.  \n",
    "#### Problem\n",
    "The problem is that the webpage has a dynamic content and therefore we cannot easily extract the \"static\" source code as in other cases. The website also does not provide API (it actually does, however, not for us and not for the purposes we need). \n",
    "#### Solution\n",
    "We use methods that handle the dynamic content - our solution is the installation of package *selenium* and setting up a *Google Chrome webdriver*. We basically open the webpage, collect its source code and navigate between pages. Thanks to this package (and the webdriver which is also included in the GitHub repository) we manage to download all the data we need. More detailed description of particular methods can be found in the class docstring and in the comments."
   ]
  },
  {
   "cell_type": "code",
   "execution_count": 1,
   "metadata": {
    "scrolled": true
   },
   "outputs": [
    {
     "name": "stdout",
     "output_type": "stream",
     "text": [
      "Downloader successfully initialized!\n",
      " \n",
      "\n",
      "    This class crawls through dynamic content of https://www.portaldrazeb.cz and collects following things:\n",
      "\n",
      "            1) soup object for every auctioneer\n",
      "            2) link to every auction + auction category (since the category is not within the auction page itself)\n",
      "            3) list of all possible values from drop-down menu (auction categories, regions and districts)\n",
      "    \n",
      "    Subsequently it extracts soup objects of all auctions from the links collected in 2).\n",
      "    \n"
     ]
    }
   ],
   "source": [
    "# importing the class which will do the scraping  \n",
    "from dynamic_scraper import DataDownloader\n",
    "down = DataDownloader() # initialising the scraper"
   ]
  },
  {
   "cell_type": "code",
   "execution_count": 2,
   "metadata": {},
   "outputs": [],
   "source": [
    "# links we will need\n",
    "url_auctions = 'https://www.portaldrazeb.cz/drazby/pripravovane'\n",
    "url_auctioneers = 'https://www.portaldrazeb.cz/drazebnici'"
   ]
  },
  {
   "cell_type": "markdown",
   "metadata": {},
   "source": [
    "The next lines of code will scrape the data. Please do not interact with the Google Chrome window that will open in the background, just wait until it does its job and closes. The whole procedure should take a bit over 20 minutes. "
   ]
  },
  {
   "cell_type": "code",
   "execution_count": 3,
   "metadata": {
    "scrolled": true
   },
   "outputs": [
    {
     "name": "stderr",
     "output_type": "stream",
     "text": [
      "100%|████████████████████████████████████████████████████████████████████████████████████| 8/8 [00:42<00:00,  5.28s/it]"
     ]
    },
    {
     "name": "stdout",
     "output_type": "stream",
     "text": [
      "Soup objects of auctioneers successfully downloaded! There are 158 of them right now.\n"
     ]
    },
    {
     "name": "stderr",
     "output_type": "stream",
     "text": [
      "\n"
     ]
    }
   ],
   "source": [
    "down.get_soups_of_auctioneers(url_auctioneers) # takes approx. 1 minute"
   ]
  },
  {
   "cell_type": "code",
   "execution_count": 4,
   "metadata": {
    "scrolled": true
   },
   "outputs": [
    {
     "name": "stderr",
     "output_type": "stream",
     "text": [
      "100%|██████████████████████████████████████████████████████████████████████████████████| 56/56 [05:02<00:00,  5.40s/it]\n"
     ]
    },
    {
     "name": "stdout",
     "output_type": "stream",
     "text": [
      "Auction links and categories successfully downloaded! There are 1105 auctions right now.\n"
     ]
    }
   ],
   "source": [
    "down.get_auction_links_and_categories(url_auctions) # takes approx. 5 minutes"
   ]
  },
  {
   "cell_type": "code",
   "execution_count": 5,
   "metadata": {
    "scrolled": false
   },
   "outputs": [
    {
     "name": "stdout",
     "output_type": "stream",
     "text": [
      "Auction categories, regions and districts successfully downloaded!\n"
     ]
    }
   ],
   "source": [
    "down.get_items_from_dropdown_menu(url_auctions) "
   ]
  },
  {
   "cell_type": "code",
   "execution_count": 6,
   "metadata": {
    "scrolled": true
   },
   "outputs": [
    {
     "name": "stderr",
     "output_type": "stream",
     "text": [
      "100%|██████████████████████████████████████████████████████████████████████████████| 1105/1105 [12:53<00:00,  1.43it/s]"
     ]
    },
    {
     "name": "stdout",
     "output_type": "stream",
     "text": [
      "Soup objects successfully appended to auction_links_and_categories.\n"
     ]
    },
    {
     "name": "stderr",
     "output_type": "stream",
     "text": [
      "\n"
     ]
    }
   ],
   "source": [
    "down.extract_auction_soups() # takes approx. 17 minutes"
   ]
  },
  {
   "cell_type": "code",
   "execution_count": 18,
   "metadata": {},
   "outputs": [
    {
     "data": {
      "text/plain": [
       "<article><div class=\"row\"><div class=\"col-12-xl\"><h2><a>Obvod: Benešov</a></h2> <div class=\"row auctioneer-about\"><div class=\"col-4-xl col-12-xs\"><ul><li><strong>Vychopňová Iva JUDr.</strong></li> <li><span>\n",
       "                                                        Jiráskova\n",
       "                                                        2042\n",
       "                                                        </span> <!-- --></li> <li>256 01 Benešov</li></ul></div> <div class=\"col-4-xl col-12-xs\"><ul><li><i class=\"fal fa-phone\"></i> <a href=\"tel:311444834\">311444834</a></li> <li><i class=\"fal fa-envelope\"></i> <a href=\"mailto:info@eubenesov.cz\">info@eubenesov.cz</a></li> <li><i class=\"fal fa-globe\"></i> <a href=\"http://www.eubenesov.cz\">http://www.eubenesov.cz</a></li></ul></div> <div class=\"col-4-xl col-12-xs\"><ul><li><strong>Č. soud. exek.:</strong> 170</li> <li><strong>IČ:</strong> <span>\n",
       "                                                            72552565\n",
       "                                                        </span></li> <li><strong>ID dat. schr.:</strong> <span>\n",
       "                                                            fnd6rwr\n",
       "                                                        </span></li> <li><strong>Jazyky:</strong> <span></span></li></ul></div></div> <div class=\"row auctioneer-about\"><div class=\"col-4-xl col-12-xs\"><a class=\"el-button el-button--default\" href=\"/drazby/pripravovane.html?filter=%7B%22office%22%3A%22EXR%22%2C%22sort%22%3A%22asc%22%2C%22sort_by%22%3A%22start%22%2C%22limit%22%3A20%2C%22offset%22%3A0%2C%22page%22%3A1%7D\"><i class=\"fal fa-presentation\"></i> Dražby</a></div></div></div></div> <!-- --></article>"
      ]
     },
     "execution_count": 18,
     "metadata": {},
     "output_type": "execute_result"
    }
   ],
   "source": [
    "down.auctioneers_soups[0]"
   ]
  },
  {
   "cell_type": "markdown",
   "metadata": {},
   "source": [
    "### Data processor\n",
    "#### "
   ]
  },
  {
   "cell_type": "code",
   "execution_count": 7,
   "metadata": {},
   "outputs": [],
   "source": [
    "import pandas as pd\n",
    "import numpy as np"
   ]
  },
  {
   "cell_type": "code",
   "execution_count": 8,
   "metadata": {},
   "outputs": [],
   "source": [
    "czech = {'\\\\u00e1': 'á',\"\\\\u010d\":\"č\",\"\\\\u010f\":\"ď\",\"\\\\u00e9\":\"é\",\"\\\\u011b\":\"ě\",\"\\\\u00ed\":\"í\",\"\\\\u0148\":\"ň\",\"\\\\u00f3\":\"ó\",\"\\\\u0159\":\"ř\",\"\\\\u0161\":\"š\",\"\\\\u0165\":\"ť\",\"\\\\u00fa\":\"ú\",\"\\\\u016f\":\"ů\",\"\\\\u00fd\":\"ý\",\"\\\\u017e\":\"ž\",\"\\\\u00c1\":\"Á\",\"\\\\u00c4\":\"Ä\",\"\\\\u010c\":\"Č\",\"\\\\u010e\":\"Ď\",\"\\\\u00c9\":\"É\",\"\\\\u011a\":\"Ě\",\"\\\\u00cd\":\"Í\",\"\\\\u0147\":\"Ň\",\"\\\\u00d3\":\"Ó\",\"\\\\u0158\":\"Ř\",\"\\\\u0160\":\"Š\",\"\\\\u0164\":\"Ť\",\"\\\\u00da\":\"Ú\",\"\\\\u016e\":\"Ů\",\"\\\\u00dd\":\"Ý\",\"\\\\u017d\":\"Ž\"}\n",
    "#necessary to translate groups of characters from the source code to Czech characters"
   ]
  },
  {
   "cell_type": "code",
   "execution_count": 9,
   "metadata": {},
   "outputs": [],
   "source": [
    "auctionslist=[]\n",
    "for i in range(len(down.auction_links_and_categories)):\n",
    "    soup = down.auction_links_and_categories[i][3]\n",
    "    auctiondata=soup.findAll(\"div\", {\"class\": \"auction\"})\n",
    "    auctiondata=str(auctiondata[0])\n",
    "    for x,y in czech.items():\n",
    "        auctiondata = auctiondata.replace(x, y)#here the source-Czech dictionary is used\n",
    "    auctiondata=auctiondata.replace('&quot;','\"')\n",
    "    #auctiondata=auctiondata.replace('\"','')\n",
    "    title=auctiondata[(auctiondata.index(\"title\") + len(\"title\")+3):]\n",
    "    title=title[:title.index(\"category\")-3]\n",
    "    districtname=auctiondata[(auctiondata.index(\"district_name\") + len(\"district_name\")+3):(auctiondata.index(\"district_name\") + len(\"district_name\")+33)]\n",
    "    districtname=districtname[:districtname.index('\"')]\n",
    "    if districtname==\"' ')\": districtname=np.nan#some auctions do not have this parameter, so it returns these characters\n",
    "    regionname=auctiondata[(auctiondata.index(\"county_name\")+ len(\"county_name\")+3):(auctiondata.index(\"county_name\")+ len(\"county_name\")+33)]\n",
    "    regionname=regionname[:regionname.index('\"')]\n",
    "    if regionname==\"<th>Okres</th>\\n<td v-text=\":regionname=np.nan#like districtname, it is not everywhere\n",
    "    auctioneer=auctiondata[(auctiondata.index(\"auctioneer_office\") + len(\"auctioneer_office\")+30):]\n",
    "    auctioneer=auctioneer[:auctioneer.index(\"addresses\")-3].split(\" \") \n",
    "    number=auctiondata[(auctiondata.index('voluntary')-17):(auctiondata.index('voluntary')-3)].replace(':','').replace('\"', '')\n",
    "    estimated_price=auctiondata[(auctiondata.index(\"estimated_price\") + len(\"estimated_price\")+2):]\n",
    "    estimated_price=estimated_price[:estimated_price.index(\"item_price\")-2]\n",
    "    reserve_price=auctiondata[auctiondata.index(\"item_price\")+12:]\n",
    "    reserve_price=reserve_price[:reserve_price.index(\"minimal_bid\")-2]\n",
    "    link = down.auction_links_and_categories[i][0]\n",
    "    category = down.auction_links_and_categories[i][1][0]\n",
    "    try: subcategory = down.auction_links_and_categories[i][1][1]\n",
    "    except: subcategory = \"-\"\n",
    "    \n",
    "    auction=[]\n",
    "    auction.extend([auctioneer[0],auctioneer[1],districtname,regionname,title,category,subcategory,number,estimated_price,reserve_price,link])\n",
    "    \n",
    "    auctionslist.append(auction)\n",
    "    #print([i],sep=' ', end='', flush=\"true\")writes how many auctions it processed, just to ensure it actually does something\n",
    "    #takes a shitload of time to scrape it all(15 to 20 minutes, probably. The bottleneck is getting all those requests, so the only way to make it faster seems to be to buy better internet.)"
   ]
  },
  {
   "cell_type": "code",
   "execution_count": 10,
   "metadata": {
    "scrolled": false
   },
   "outputs": [
    {
     "data": {
      "text/html": [
       "<div>\n",
       "<style scoped>\n",
       "    .dataframe tbody tr th:only-of-type {\n",
       "        vertical-align: middle;\n",
       "    }\n",
       "\n",
       "    .dataframe tbody tr th {\n",
       "        vertical-align: top;\n",
       "    }\n",
       "\n",
       "    .dataframe thead th {\n",
       "        text-align: right;\n",
       "    }\n",
       "</style>\n",
       "<table border=\"1\" class=\"dataframe\">\n",
       "  <thead>\n",
       "    <tr style=\"text-align: right;\">\n",
       "      <th></th>\n",
       "      <th>Surname</th>\n",
       "      <th>Name</th>\n",
       "      <th>District</th>\n",
       "      <th>Region</th>\n",
       "      <th>Title</th>\n",
       "      <th>Category</th>\n",
       "      <th>Subcategory</th>\n",
       "      <th>Code</th>\n",
       "      <th>Estimated_price</th>\n",
       "      <th>Reserve_price</th>\n",
       "      <th>Link</th>\n",
       "    </tr>\n",
       "  </thead>\n",
       "  <tbody>\n",
       "    <tr>\n",
       "      <th>0</th>\n",
       "      <td>Schafferová</td>\n",
       "      <td>Jaroslava</td>\n",
       "      <td>Loukovec</td>\n",
       "      <td>Mladá Boleslav</td>\n",
       "      <td>Dražba podílů na pozemcích v obci Loukovec</td>\n",
       "      <td>Nemovitosti</td>\n",
       "      <td>Pozemek</td>\n",
       "      <td>98EX827/05-157</td>\n",
       "      <td>21500</td>\n",
       "      <td>14334</td>\n",
       "      <td>https://www.portaldrazeb.cz/drazba/198ex827-05...</td>\n",
       "    </tr>\n",
       "    <tr>\n",
       "      <th>1</th>\n",
       "      <td>Ivanko</td>\n",
       "      <td>Igor</td>\n",
       "      <td>NaN</td>\n",
       "      <td>Praha-východ</td>\n",
       "      <td>Elektronická dražba id. podílu o velikosti 1/9...</td>\n",
       "      <td>Nemovitosti</td>\n",
       "      <td>Pozemek</td>\n",
       "      <td>67EX902/13-617</td>\n",
       "      <td>6900</td>\n",
       "      <td>4600</td>\n",
       "      <td>https://www.portaldrazeb.cz/drazba/167ex902-13...</td>\n",
       "    </tr>\n",
       "    <tr>\n",
       "      <th>2</th>\n",
       "      <td>Smola</td>\n",
       "      <td>Erik</td>\n",
       "      <td>Strakonice</td>\n",
       "      <td>Jihočeský kraj</td>\n",
       "      <td>Osobní automobil MERCEDES BENZ, model S</td>\n",
       "      <td>Movitosti</td>\n",
       "      <td>Auto-moto</td>\n",
       "      <td>r212EX18/21</td>\n",
       "      <td>210000</td>\n",
       "      <td>70000</td>\n",
       "      <td>https://www.portaldrazeb.cz/drazba/212ex18-21-...</td>\n",
       "    </tr>\n",
       "    <tr>\n",
       "      <th>3</th>\n",
       "      <td>Bednář</td>\n",
       "      <td>Richard</td>\n",
       "      <td>Teplice</td>\n",
       "      <td>Ústecký kraj</td>\n",
       "      <td>Dražba pozemku v obci Bystřany, okres Teplice,...</td>\n",
       "      <td>Nemovitosti</td>\n",
       "      <td>Pozemek</td>\n",
       "      <td>003EX950/12</td>\n",
       "      <td>200000</td>\n",
       "      <td>133334</td>\n",
       "      <td>https://www.portaldrazeb.cz/drazba/003ex950-12...</td>\n",
       "    </tr>\n",
       "    <tr>\n",
       "      <th>4</th>\n",
       "      <td>Leskovjan</td>\n",
       "      <td>Jiří</td>\n",
       "      <td>Šumperk</td>\n",
       "      <td>Šumperk</td>\n",
       "      <td>byt v Šumperku</td>\n",
       "      <td>Nemovitosti</td>\n",
       "      <td>Byt</td>\n",
       "      <td>189DD16/21-08</td>\n",
       "      <td>2500000</td>\n",
       "      <td>1900000</td>\n",
       "      <td>https://www.portaldrazeb.cz/drazba/189dd16-21-...</td>\n",
       "    </tr>\n",
       "  </tbody>\n",
       "</table>\n",
       "</div>"
      ],
      "text/plain": [
       "       Surname       Name    District          Region  \\\n",
       "0  Schafferová  Jaroslava    Loukovec  Mladá Boleslav   \n",
       "1       Ivanko       Igor         NaN    Praha-východ   \n",
       "2        Smola       Erik  Strakonice  Jihočeský kraj   \n",
       "3       Bednář    Richard     Teplice    Ústecký kraj   \n",
       "4    Leskovjan       Jiří     Šumperk         Šumperk   \n",
       "\n",
       "                                               Title     Category Subcategory  \\\n",
       "0         Dražba podílů na pozemcích v obci Loukovec  Nemovitosti     Pozemek   \n",
       "1  Elektronická dražba id. podílu o velikosti 1/9...  Nemovitosti     Pozemek   \n",
       "2            Osobní automobil MERCEDES BENZ, model S    Movitosti   Auto-moto   \n",
       "3  Dražba pozemku v obci Bystřany, okres Teplice,...  Nemovitosti     Pozemek   \n",
       "4                                     byt v Šumperku  Nemovitosti         Byt   \n",
       "\n",
       "             Code Estimated_price Reserve_price  \\\n",
       "0  98EX827/05-157           21500         14334   \n",
       "1  67EX902/13-617            6900          4600   \n",
       "2     r212EX18/21          210000         70000   \n",
       "3     003EX950/12          200000        133334   \n",
       "4   189DD16/21-08         2500000       1900000   \n",
       "\n",
       "                                                Link  \n",
       "0  https://www.portaldrazeb.cz/drazba/198ex827-05...  \n",
       "1  https://www.portaldrazeb.cz/drazba/167ex902-13...  \n",
       "2  https://www.portaldrazeb.cz/drazba/212ex18-21-...  \n",
       "3  https://www.portaldrazeb.cz/drazba/003ex950-12...  \n",
       "4  https://www.portaldrazeb.cz/drazba/189dd16-21-...  "
      ]
     },
     "execution_count": 10,
     "metadata": {},
     "output_type": "execute_result"
    }
   ],
   "source": [
    "auctions = pd.DataFrame(auctionslist)\n",
    "auctions.columns = [\"Surname\",\"Name\",\"District\",\"Region\",\"Title\",\"Category\",\"Subcategory\",\"Code\",\"Estimated_price\",\"Reserve_price\",\"Link\"]\n",
    "auctions.head()"
   ]
  },
  {
   "cell_type": "code",
   "execution_count": 23,
   "metadata": {
    "scrolled": false
   },
   "outputs": [
    {
     "data": {
      "text/html": [
       "<div>\n",
       "<style scoped>\n",
       "    .dataframe tbody tr th:only-of-type {\n",
       "        vertical-align: middle;\n",
       "    }\n",
       "\n",
       "    .dataframe tbody tr th {\n",
       "        vertical-align: top;\n",
       "    }\n",
       "\n",
       "    .dataframe thead th {\n",
       "        text-align: right;\n",
       "    }\n",
       "</style>\n",
       "<table border=\"1\" class=\"dataframe\">\n",
       "  <thead>\n",
       "    <tr style=\"text-align: right;\">\n",
       "      <th></th>\n",
       "      <th>Surname</th>\n",
       "      <th>Name</th>\n",
       "      <th>District</th>\n",
       "      <th>Region</th>\n",
       "      <th>Title</th>\n",
       "      <th>Category</th>\n",
       "      <th>Subcategory</th>\n",
       "      <th>Estimated_price</th>\n",
       "      <th>Reserve_price</th>\n",
       "      <th>Link</th>\n",
       "    </tr>\n",
       "    <tr>\n",
       "      <th>Code</th>\n",
       "      <th></th>\n",
       "      <th></th>\n",
       "      <th></th>\n",
       "      <th></th>\n",
       "      <th></th>\n",
       "      <th></th>\n",
       "      <th></th>\n",
       "      <th></th>\n",
       "      <th></th>\n",
       "      <th></th>\n",
       "    </tr>\n",
       "  </thead>\n",
       "  <tbody>\n",
       "    <tr>\n",
       "      <th>179DD2/21-6</th>\n",
       "      <td>Ráček</td>\n",
       "      <td>Zdeněk</td>\n",
       "      <td>NaN</td>\n",
       "      <td>NaN</td>\n",
       "      <td>VW passat VARIANT b6</td>\n",
       "      <td>Movitosti</td>\n",
       "      <td>Auto-moto</td>\n",
       "      <td>75000</td>\n",
       "      <td>75000</td>\n",
       "      <td>https://www.portaldrazeb.cz/drazba/179dd2-21-6...</td>\n",
       "    </tr>\n",
       "    <tr>\n",
       "      <th>083EX881/11-73</th>\n",
       "      <td>Souček</td>\n",
       "      <td>Kamil</td>\n",
       "      <td>Vysoké Veselí</td>\n",
       "      <td>Jičín</td>\n",
       "      <td>podíl 3/5 RD, Vysoké Veselí</td>\n",
       "      <td>Nemovitosti</td>\n",
       "      <td>Rodinný dům</td>\n",
       "      <td>238600</td>\n",
       "      <td>159120</td>\n",
       "      <td>https://www.portaldrazeb.cz/drazba/083ex881-11...</td>\n",
       "    </tr>\n",
       "    <tr>\n",
       "      <th>er107DD4/21</th>\n",
       "      <td>Zálešák</td>\n",
       "      <td>Lubomír</td>\n",
       "      <td>Brno-venkov</td>\n",
       "      <td>Jihomoravský kraj</td>\n",
       "      <td>Pozemky v Moravských Bránicích - okr. Brno-venkov</td>\n",
       "      <td>Nemovitosti</td>\n",
       "      <td>Pozemek</td>\n",
       "      <td>120000</td>\n",
       "      <td>80000</td>\n",
       "      <td>https://www.portaldrazeb.cz/drazba/107dd4-21-1...</td>\n",
       "    </tr>\n",
       "    <tr>\n",
       "      <th>64EX4700/14-93</th>\n",
       "      <td>Svoboda</td>\n",
       "      <td>Jan</td>\n",
       "      <td>Olomouc</td>\n",
       "      <td>Olomoucký kraj</td>\n",
       "      <td>Pozemek o velikosti 17534 m2, Moravská Loděnic...</td>\n",
       "      <td>Nemovitosti</td>\n",
       "      <td>Pozemek</td>\n",
       "      <td>36000</td>\n",
       "      <td>24000</td>\n",
       "      <td>https://www.portaldrazeb.cz/drazba/164ex4700-1...</td>\n",
       "    </tr>\n",
       "    <tr>\n",
       "      <th>139EX36243/14</th>\n",
       "      <td>Kubis</td>\n",
       "      <td>Marcel</td>\n",
       "      <td>Jalubí</td>\n",
       "      <td>Uherské Hradiště</td>\n",
       "      <td>Dražba podílu id. 11/12 na  v obci Jalubí, okr...</td>\n",
       "      <td>Nemovitosti</td>\n",
       "      <td>-</td>\n",
       "      <td>399000</td>\n",
       "      <td>266000</td>\n",
       "      <td>https://www.portaldrazeb.cz/drazba/139ex36243-...</td>\n",
       "    </tr>\n",
       "    <tr>\n",
       "      <th>...</th>\n",
       "      <td>...</td>\n",
       "      <td>...</td>\n",
       "      <td>...</td>\n",
       "      <td>...</td>\n",
       "      <td>...</td>\n",
       "      <td>...</td>\n",
       "      <td>...</td>\n",
       "      <td>...</td>\n",
       "      <td>...</td>\n",
       "      <td>...</td>\n",
       "    </tr>\n",
       "    <tr>\n",
       "      <th>158EX129/14</th>\n",
       "      <td>Bohutínský</td>\n",
       "      <td>Jan</td>\n",
       "      <td>Frýdek-Místek</td>\n",
       "      <td>Moravskoslezský kraj</td>\n",
       "      <td>Termín dražby není stanoven - 1/2 RD v Jablunk...</td>\n",
       "      <td>Nemovitosti</td>\n",
       "      <td>Rodinný dům</td>\n",
       "      <td>435000</td>\n",
       "      <td>290000</td>\n",
       "      <td>https://www.portaldrazeb.cz/drazba/158ex129-14...</td>\n",
       "    </tr>\n",
       "    <tr>\n",
       "      <th>083EX806/15-71</th>\n",
       "      <td>Souček</td>\n",
       "      <td>Kamil</td>\n",
       "      <td>Benešov</td>\n",
       "      <td>Středočeský kraj</td>\n",
       "      <td>osobní automobil Škoda Octavia, TDi, 2012</td>\n",
       "      <td>Movitosti</td>\n",
       "      <td>Auto-moto</td>\n",
       "      <td>210000</td>\n",
       "      <td>0</td>\n",
       "      <td>https://www.portaldrazeb.cz/drazba/083ex806-15...</td>\n",
       "    </tr>\n",
       "    <tr>\n",
       "      <th>158EX1248/13</th>\n",
       "      <td>Bohutínský</td>\n",
       "      <td>Jan</td>\n",
       "      <td>Trutnov</td>\n",
       "      <td>Královéhradecký kraj</td>\n",
       "      <td>Termín dražby není stanoven 1/2 pohostinského ...</td>\n",
       "      <td>Nemovitosti</td>\n",
       "      <td>Rodinný dům</td>\n",
       "      <td>1750000</td>\n",
       "      <td>1166667</td>\n",
       "      <td>https://www.portaldrazeb.cz/drazba/158ex1248-1...</td>\n",
       "    </tr>\n",
       "    <tr>\n",
       "      <th>095EX2043/13</th>\n",
       "      <td>Tvrdková</td>\n",
       "      <td>Jana</td>\n",
       "      <td>Benešov</td>\n",
       "      <td>Středočeský kraj</td>\n",
       "      <td>Dražba zabavených movitých věcí povinného - DR...</td>\n",
       "      <td>Movitosti</td>\n",
       "      <td>Elektronika</td>\n",
       "      <td>0</td>\n",
       "      <td>0</td>\n",
       "      <td>https://www.portaldrazeb.cz/drazba/095ex2043-1...</td>\n",
       "    </tr>\n",
       "    <tr>\n",
       "      <th>50EX3397/12-85</th>\n",
       "      <td>Kučera</td>\n",
       "      <td>Petr</td>\n",
       "      <td>Domažlice</td>\n",
       "      <td>Plzeňský kraj</td>\n",
       "      <td>!!! ODROČENO NA NEURČITO !!! Dražba rodinného ...</td>\n",
       "      <td>Nemovitosti</td>\n",
       "      <td>Rodinný dům</td>\n",
       "      <td>1100000</td>\n",
       "      <td>733333</td>\n",
       "      <td>https://www.portaldrazeb.cz/drazba/150ex3397-1...</td>\n",
       "    </tr>\n",
       "  </tbody>\n",
       "</table>\n",
       "<p>1089 rows × 10 columns</p>\n",
       "</div>"
      ],
      "text/plain": [
       "                   Surname     Name       District                Region  \\\n",
       "Code                                                                       \n",
       "179DD2/21-6          Ráček   Zdeněk            NaN                   NaN   \n",
       "083EX881/11-73      Souček    Kamil  Vysoké Veselí                 Jičín   \n",
       "er107DD4/21        Zálešák  Lubomír    Brno-venkov     Jihomoravský kraj   \n",
       "64EX4700/14-93     Svoboda      Jan        Olomouc        Olomoucký kraj   \n",
       "139EX36243/14        Kubis   Marcel         Jalubí      Uherské Hradiště   \n",
       "...                    ...      ...            ...                   ...   \n",
       "158EX129/14     Bohutínský      Jan  Frýdek-Místek  Moravskoslezský kraj   \n",
       "083EX806/15-71      Souček    Kamil        Benešov      Středočeský kraj   \n",
       "158EX1248/13    Bohutínský      Jan        Trutnov  Královéhradecký kraj   \n",
       "095EX2043/13      Tvrdková     Jana        Benešov      Středočeský kraj   \n",
       "50EX3397/12-85      Kučera     Petr      Domažlice         Plzeňský kraj   \n",
       "\n",
       "                                                            Title  \\\n",
       "Code                                                                \n",
       "179DD2/21-6                                  VW passat VARIANT b6   \n",
       "083EX881/11-73                        podíl 3/5 RD, Vysoké Veselí   \n",
       "er107DD4/21     Pozemky v Moravských Bránicích - okr. Brno-venkov   \n",
       "64EX4700/14-93  Pozemek o velikosti 17534 m2, Moravská Loděnic...   \n",
       "139EX36243/14   Dražba podílu id. 11/12 na  v obci Jalubí, okr...   \n",
       "...                                                           ...   \n",
       "158EX129/14     Termín dražby není stanoven - 1/2 RD v Jablunk...   \n",
       "083EX806/15-71          osobní automobil Škoda Octavia, TDi, 2012   \n",
       "158EX1248/13    Termín dražby není stanoven 1/2 pohostinského ...   \n",
       "095EX2043/13    Dražba zabavených movitých věcí povinného - DR...   \n",
       "50EX3397/12-85  !!! ODROČENO NA NEURČITO !!! Dražba rodinného ...   \n",
       "\n",
       "                   Category  Subcategory Estimated_price Reserve_price  \\\n",
       "Code                                                                     \n",
       "179DD2/21-6       Movitosti    Auto-moto           75000         75000   \n",
       "083EX881/11-73  Nemovitosti  Rodinný dům          238600        159120   \n",
       "er107DD4/21     Nemovitosti      Pozemek          120000         80000   \n",
       "64EX4700/14-93  Nemovitosti      Pozemek           36000         24000   \n",
       "139EX36243/14   Nemovitosti            -          399000        266000   \n",
       "...                     ...          ...             ...           ...   \n",
       "158EX129/14     Nemovitosti  Rodinný dům          435000        290000   \n",
       "083EX806/15-71    Movitosti    Auto-moto          210000             0   \n",
       "158EX1248/13    Nemovitosti  Rodinný dům         1750000       1166667   \n",
       "095EX2043/13      Movitosti  Elektronika               0             0   \n",
       "50EX3397/12-85  Nemovitosti  Rodinný dům         1100000        733333   \n",
       "\n",
       "                                                             Link  \n",
       "Code                                                               \n",
       "179DD2/21-6     https://www.portaldrazeb.cz/drazba/179dd2-21-6...  \n",
       "083EX881/11-73  https://www.portaldrazeb.cz/drazba/083ex881-11...  \n",
       "er107DD4/21     https://www.portaldrazeb.cz/drazba/107dd4-21-1...  \n",
       "64EX4700/14-93  https://www.portaldrazeb.cz/drazba/164ex4700-1...  \n",
       "139EX36243/14   https://www.portaldrazeb.cz/drazba/139ex36243-...  \n",
       "...                                                           ...  \n",
       "158EX129/14     https://www.portaldrazeb.cz/drazba/158ex129-14...  \n",
       "083EX806/15-71  https://www.portaldrazeb.cz/drazba/083ex806-15...  \n",
       "158EX1248/13    https://www.portaldrazeb.cz/drazba/158ex1248-1...  \n",
       "095EX2043/13    https://www.portaldrazeb.cz/drazba/095ex2043-1...  \n",
       "50EX3397/12-85  https://www.portaldrazeb.cz/drazba/150ex3397-1...  \n",
       "\n",
       "[1089 rows x 10 columns]"
      ]
     },
     "execution_count": 23,
     "metadata": {},
     "output_type": "execute_result"
    }
   ],
   "source": [
    "auctions"
   ]
  },
  {
   "cell_type": "code",
   "execution_count": 196,
   "metadata": {},
   "outputs": [],
   "source": [
    "auctions.to_csv('auctionslist.csv')"
   ]
  },
  {
   "cell_type": "code",
   "execution_count": 31,
   "metadata": {},
   "outputs": [
    {
     "name": "stdout",
     "output_type": "stream",
     "text": [
      "Collecting pyshp\n",
      "  Downloading pyshp-2.1.3.tar.gz (219 kB)\n",
      "Building wheels for collected packages: pyshp\n",
      "  Building wheel for pyshp (setup.py): started\n",
      "  Building wheel for pyshp (setup.py): finished with status 'done'\n",
      "  Created wheel for pyshp: filename=pyshp-2.1.3-py3-none-any.whl size=37268 sha256=bcc4e4101679d70d4532f2b6273f605248d139ebfe721631f74944f16a68a455\n",
      "  Stored in directory: c:\\users\\technician\\appdata\\local\\pip\\cache\\wheels\\1f\\1b\\b5\\54affbefc8a7e2bdf1da000fc576b8a1c91338f1f327a04f4c\n",
      "Successfully built pyshp\n",
      "Installing collected packages: pyshp\n",
      "Successfully installed pyshp-2.1.3\n"
     ]
    }
   ],
   "source": [
    "!pip install pyshp"
   ]
  },
  {
   "cell_type": "code",
   "execution_count": 33,
   "metadata": {
    "scrolled": true
   },
   "outputs": [
    {
     "name": "stdout",
     "output_type": "stream",
     "text": [
      "Collecting descartes\n",
      "  Downloading descartes-1.1.0-py3-none-any.whl (5.8 kB)\n",
      "Requirement already satisfied: matplotlib in c:\\users\\technician\\anaconda3\\lib\\site-packages (from descartes) (3.3.2)\n",
      "Requirement already satisfied: python-dateutil>=2.1 in c:\\users\\technician\\anaconda3\\lib\\site-packages (from matplotlib->descartes) (2.8.1)\n",
      "Requirement already satisfied: kiwisolver>=1.0.1 in c:\\users\\technician\\anaconda3\\lib\\site-packages (from matplotlib->descartes) (1.3.0)\n",
      "Requirement already satisfied: cycler>=0.10 in c:\\users\\technician\\anaconda3\\lib\\site-packages (from matplotlib->descartes) (0.10.0)\n",
      "Requirement already satisfied: certifi>=2020.06.20 in c:\\users\\technician\\anaconda3\\lib\\site-packages (from matplotlib->descartes) (2020.6.20)\n",
      "Requirement already satisfied: pyparsing!=2.0.4,!=2.1.2,!=2.1.6,>=2.0.3 in c:\\users\\technician\\anaconda3\\lib\\site-packages (from matplotlib->descartes) (2.4.7)\n",
      "Requirement already satisfied: numpy>=1.15 in c:\\users\\technician\\anaconda3\\lib\\site-packages (from matplotlib->descartes) (1.19.2)\n",
      "Requirement already satisfied: pillow>=6.2.0 in c:\\users\\technician\\anaconda3\\lib\\site-packages (from matplotlib->descartes) (8.0.1)\n",
      "Requirement already satisfied: six>=1.5 in c:\\users\\technician\\anaconda3\\lib\\site-packages (from python-dateutil>=2.1->matplotlib->descartes) (1.15.0)\n",
      "Installing collected packages: descartes\n",
      "Successfully installed descartes-1.1.0\n"
     ]
    }
   ],
   "source": [
    "!pip install descartes"
   ]
  },
  {
   "cell_type": "code",
   "execution_count": 11,
   "metadata": {},
   "outputs": [],
   "source": [
    "from descartes import PolygonPatch\n",
    "import shapefile"
   ]
  },
  {
   "cell_type": "code",
   "execution_count": 12,
   "metadata": {},
   "outputs": [],
   "source": [
    "import matplotlib.pyplot as plt"
   ]
  },
  {
   "cell_type": "code",
   "execution_count": 13,
   "metadata": {},
   "outputs": [],
   "source": [
    "sf=shapefile.Reader('districts')"
   ]
  },
  {
   "cell_type": "code",
   "execution_count": 23,
   "metadata": {
    "scrolled": true
   },
   "outputs": [
    {
     "data": {
      "image/png": "[encoded data removed]",
      "text/plain": [
       "<Figure size 432x288 with 1 Axes>"
      ]
     },
     "metadata": {
      "needs_background": "light"
     },
     "output_type": "display_data"
    }
   ],
   "source": [
    "fig = plt.figure() \n",
    "ax = fig.gca()\n",
    "for i in range(0,2):\n",
    "    poly=sf.shape(i).__geo_interface__\n",
    "    ax.add_patch(PolygonPatch(poly, fc='#ffffff', ec='#002222', alpha=1, zorder=2 ))\n",
    "ax.axis('scaled')\n",
    "plt.show()"
   ]
  },
  {
   "cell_type": "code",
   "execution_count": 15,
   "metadata": {},
   "outputs": [],
   "source": [
    "?PolygonPatch"
   ]
  }
 ],
 "metadata": {
  "kernelspec": {
   "display_name": "Python 3",
   "language": "python",
   "name": "python3"
  },
  "language_info": {
   "codemirror_mode": {
    "name": "ipython",
    "version": 3
   },
   "file_extension": ".py",
   "mimetype": "text/x-python",
   "name": "python",
   "nbconvert_exporter": "python",
   "pygments_lexer": "ipython3",
   "version": "3.8.5"
  }
 },
 "nbformat": 4,
 "nbformat_minor": 4
}
