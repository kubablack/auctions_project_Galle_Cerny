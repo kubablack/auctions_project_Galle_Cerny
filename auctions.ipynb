{
 "cells": [
  {
   "attachments": {
    "logo.png": {
     "image/png": "[encoded data removed]"
    }
   },
   "cell_type": "markdown",
   "metadata": {},
   "source": [
    "![logo.png](attachment:logo.png)"
   ]
  },
  {
   "cell_type": "markdown",
   "metadata": {},
   "source": [
    "### Dynamic scraper\n",
    "#### Goal\n",
    "As the title suggests, the first section incorporates a data scraper. Its goal is to crawl through https://www.portaldrazeb.cz and to collect actual data about auctions and auctioneers. It also scrapes lists of auction attributes which we will subsequently use to filter the auctions with respect to location, type, etc.  \n",
    "#### Problem\n",
    "The problem is that the webpage has dynamic content and therefore we cannot easily extract the \"static\" source code as in other cases. The website also does not provide API (it actually does, however, not for us and not for the purposes we need). \n",
    "#### Solution\n",
    "We use methods that handle the dynamic content - our solution is the installation of package *selenium* and setting up a *Google Chrome webdriver*. We basically open the webpage, collect its source code and navigate between pages. Thanks to this package (and the webdriver which is also included in the GitHub repository) we manage to download all the data we need. More detailed description of particular methods can be found in the class docstring and in the comments."
   ]
  },
  {
   "cell_type": "code",
   "execution_count": 3,
   "metadata": {
    "scrolled": false
   },
   "outputs": [
    {
     "name": "stdout",
     "output_type": "stream",
     "text": [
      "Downloader successfully initialized!\n",
      " \n",
      "\n",
      "    This class crawls through dynamic content of https://www.portaldrazeb.cz and collects following things:\n",
      "\n",
      "            1) link to every auction + auction category (since the category is not within the auction page itself)\n",
      "            2) list of all possible values from drop-down menu (auction categories, regions and districts)\n",
      "    \n"
     ]
    }
   ],
   "source": [
    "# importing the class which will do the scraping  \n",
    "from dynamic_scraper import DataDownloader\n",
    "down = DataDownloader() # initialising the scraper"
   ]
  },
  {
   "cell_type": "code",
   "execution_count": 4,
   "metadata": {},
   "outputs": [],
   "source": [
    "# link we will need\n",
    "url_auctions='https://www.portaldrazeb.cz/drazby/pripravovane'"
   ]
  },
  {
   "cell_type": "markdown",
   "metadata": {},
   "source": [
    "The next lines of code will scrape the data. Please do not interact with the Google Chrome window that will open in the background, just wait until it does its job and closes. The whole procedure should take a bit over 20 minutes. "
   ]
  },
  {
   "cell_type": "code",
   "execution_count": 5,
   "metadata": {
    "scrolled": true
   },
   "outputs": [
    {
     "name": "stderr",
     "output_type": "stream",
     "text": [
      "100%|██████████| 57/57 [04:57<00:00,  5.21s/it]\n"
     ]
    },
    {
     "name": "stdout",
     "output_type": "stream",
     "text": [
      "Auction links and categories successfully downloaded! There are 1127 auctions right now.\n"
     ]
    }
   ],
   "source": [
    "down.get_auction_links_and_categories(url_auctions) # takes approx. 5 minutes"
   ]
  },
  {
   "cell_type": "code",
   "execution_count": 6,
   "metadata": {
    "scrolled": false
   },
   "outputs": [
    {
     "name": "stdout",
     "output_type": "stream",
     "text": [
      "Auction categories, regions and districts successfully downloaded!\n"
     ]
    }
   ],
   "source": [
    "down.get_items_from_dropdown_menu(url_auctions) "
   ]
  },
  {
   "cell_type": "code",
   "execution_count": 7,
   "metadata": {},
   "outputs": [
    {
     "name": "stderr",
     "output_type": "stream",
     "text": [
      "100%|██████████| 1127/1127 [11:40<00:00,  1.61it/s]"
     ]
    },
    {
     "name": "stdout",
     "output_type": "stream",
     "text": [
      "Soup objects successfully appended to auction_links_and_categories.\n"
     ]
    },
    {
     "name": "stderr",
     "output_type": "stream",
     "text": [
      "\n"
     ]
    }
   ],
   "source": [
    "down.extract_auction_soups() # takes approx. 17 minutes"
   ]
  },
  {
   "cell_type": "markdown",
   "metadata": {},
   "source": [
    "### Data processor\n",
    "#### "
   ]
  },
  {
   "cell_type": "code",
   "execution_count": 65,
   "metadata": {},
   "outputs": [
    {
     "data": {
      "text/plain": [
       "'<div class=\"auction\" data-auction=\\'{\"enabled\":true,\"bids\":[],\"location_district\":null,\"started\":false,\"finished\":false,\"hash\":\"74g1n\",\"documents\":{\"wWlM9\":{\"pathname\":\"/auctions/74g1n/pdf1\",\"mime_type\":\"application/pdf\",\"size\":134754,\"original_name\":\"znalecký posudek 1.pdf\",\"description\":null,\"created_at\":\"2020-07-22T05:59:09.926+00:00\",\"updated_at\":\"2020-07-22T05:59:10.391+00:00\",\"hash\":\"wWlM9\",\"document_type\":\"expert_report\"},\"JpWYp\":{\"pathname\":\"/auctions/74g1n/pdf2\",\"mime_type\":\"application/pdf\",\"size\":4061899,\"original_name\":\"dražební vyhláška 1.pdf\",\"description\":null,\"created_at\":\"2020-07-22T05:59:10.366+00:00\",\"updated_at\":\"2020-07-22T05:59:10.432+00:00\",\"hash\":\"JpWYp\",\"document_type\":\"auction_decree\"}},\"images\":{\"WGYAp\":{\"pathname\":\"/auctions/74g1n/0\",\"mime_type\":\"image/jpeg\",\"size\":39921,\"original_name\":\"obrázek 1.jpg\",\"description\":null,\"hash\":\"WGYAp\",\"width\":375,\"height\":274,\"priority\":0},\"yY93Z\":{\"pathname\":\"/auctions/74g1n/1\",\"mime_type\":\"image/jpeg\",\"size\":43594,\"original_name\":\"obrázek 2.jpg\",\"description\":null,\"hash\":\"yY93Z\",\"width\":376,\"height\":271,\"priority\":1},\"GrOvR\":{\"pathname\":\"/auctions/74g1n/2\",\"mime_type\":\"image/jpeg\",\"size\":19523,\"original_name\":\"obrázek 3.jpg\",\"description\":null,\"hash\":\"GrOvR\",\"width\":273,\"height\":189,\"priority\":2},\"095ao\":{\"pathname\":\"/auctions/74g1n/3\",\"mime_type\":\"image/jpeg\",\"size\":20707,\"original_name\":\"obrázek 4.jpg\",\"description\":null,\"hash\":\"095ao\",\"width\":269,\"height\":186,\"priority\":3},\"eZROv\":{\"pathname\":\"/auctions/74g1n/4\",\"mime_type\":\"image/jpeg\",\"size\":109146,\"original_name\":\"obrázek 5.jpg\",\"description\":null,\"hash\":\"eZROv\",\"width\":617,\"height\":423,\"priority\":4},\"zz02O\":{\"pathname\":\"/auctions/74g1n/5\",\"mime_type\":\"image/jpeg\",\"size\":17112,\"original_name\":\"obrázek 6.jpg\",\"description\":null,\"hash\":\"zz02O\",\"width\":362,\"height\":283,\"priority\":5}},\"context\":{\"bidding_round\":0,\"objection_round\":null},\"item\":{\"location_district\":{\"district_code\":40355,\"district_name\":\"Domažlice\",\"county\":{\"county_code\":3042,\"county_name\":\"Plzeňský kraj\",\"slug\":\"plzensky-kraj\"},\"city\":{\"city_code\":553425,\"city_name\":\"Domažlice\"},\"coords\":{\"points\":[]},\"slug\":\"okres-domazlice\"},\"title\":\"!!! ODROČENO NA NEURČITO !!! Dražba rodinného domu v části obce Mělnice, Hostouň, okr. Domažlice\",\"category\":{\"full_path\":\"/Nemovitosti/Rodinný dům\",\"id\":7,\"title\":\"Rodinný dům\",\"path\":\"Nemovitosti-1,Rodinný dům-7,\",\"description\":null,\"type\":\"real\",\"slug\":\"rodinny-dum\"},\"description\":\"&lt;p&gt;Rodinný dům č.p.26 na LV č.56 se nachází asi 5 km na severovýchod v obci  Hostouň v části Mělnice, v okrese Domažlice, v Plzeňském kraji. Dům je situován ve středu odloučené části obce, v lokalitě rodinných domů, základní občanská vybavenost je v dosahu pěší chůze. Rodinný dům se nachází ve špatném technickém stavu, v užívání 88 let, práce záchovné údržby nejsou prováděny v dostatečném rozsahu. Dům je napojen na elektro přípojku a vodovod, Kanalizace a plyn, není v této části obce zaveden. &lt;/p&gt;; místo konání: www.okdrazby.cz\",\"tags\":[],\"location_coords\":null,\"ruian\":null,\"cadastral_office\":null,\"ruian_cadastral_office\":null,\"type\":\"real\"},\"number\":\"150EX3397/12-85\",\"voluntary\":false,\"online\":false,\"electronic\":true,\"auctioneer_office\":{\"ex_number\":\"150\",\"title\":\"Kučera Petr JUDr. Ing.\",\"addresses\":[],\"default_address\":{\"share_as_rat\":null,\"share\":null,\"czechpoint_id\":\"h4kswpm\",\"birth_date\":null,\"document_type\":null,\"document_id\":null,\"document_expires\":null,\"nationality\":null,\"file_number\":null,\"file_court\":null,\"position\":null,\"account_number\":null,\"title_before\":null,\"first_name\":null,\"last_name\":null,\"title_after\":null,\"phone_number\":\"314004567\",\"phone_dial\":\"CZ\",\"company\":null,\"residential_country_code\":\"CZ\",\"residential_street\":\"náměstí starosty Pavla\",\"residential_street_number\":\"5\",\"residential_street_code\":null,\"residential_city\":\"Kladno\",\"residential_postcode\":\"272 01\",\"mailing_country_code\":null,\"mailing_street\":null,\"mailing_street_number\":null,\"mailing_street_code\":null,\"mailing_city\":null,\"mailing_postcode\":null,\"note\":null,\"vat_number\":\"CZ65402367\",\"registration_number\":\"65402367\",\"email\":\"epodatelna@eukladno.cz\",\"children\":[],\"personal_number\":null,\"representative\":false,\"hash\":\"kRO\",\"country_phone_dial\":{\"code\":\"CZ\",\"iso\":\"CZE\",\"name\":\"Czech Republic\",\"phone_code\":420},\"country_residential_address\":{\"code\":\"CZ\",\"iso\":\"CZE\",\"name\":\"Czech Republic\",\"phone_code\":420}},\"business_hours\":{\"mon\":\"10:00-11:00, 13:30-14:30\",\"tue\":\"10:00-11:00, 13:30-14:30\",\"wed\":\"10:00-11:00, 13:30-14:30\",\"thu\":\"10:00-11:00, 13:30-14:30\",\"fri\":\"00:00-00:00, 00:00-00:00\"},\"district\":\"Kladno\",\"website\":\"http://www.eukladno.cz\",\"note\":\"\",\"languages\":null,\"slug\":\"45n-kucera-petr-judr-ing\",\"hash\":\"45N\"},\"status\":\"upcoming\",\"responsible_person\":{\"type\":\"auctioneer\",\"user_type\":\"user\",\"email\":\"epodatelna@eukladno.cz\",\"default_address\":{\"share_as_rat\":null,\"share\":null,\"czechpoint_id\":null,\"birth_date\":null,\"document_type\":null,\"document_id\":null,\"document_expires\":null,\"nationality\":null,\"file_number\":null,\"file_court\":null,\"position\":null,\"account_number\":null,\"title_before\":\"JUDr. Ing.\",\"first_name\":\"Petr\",\"last_name\":\"Kučera\",\"title_after\":null,\"phone_number\":\"314004567\",\"phone_dial\":\"CZ\",\"company\":null,\"residential_country_code\":null,\"residential_street\":\"nám. Starosty Pavla\",\"residential_street_number\":\"5\",\"residential_street_code\":null,\"residential_city\":\"Kladno\",\"residential_postcode\":\"272 01\",\"mailing_country_code\":null,\"mailing_street\":null,\"mailing_street_number\":null,\"mailing_street_code\":null,\"mailing_city\":null,\"mailing_postcode\":null,\"note\":\"\",\"vat_number\":null,\"registration_number\":null,\"email\":null,\"children\":[],\"personal_number\":null,\"representative\":false,\"hash\":\"GBY\",\"country_phone_dial\":{\"code\":\"CZ\",\"iso\":\"CZE\",\"name\":\"Czech Republic\",\"phone_code\":420}},\"hash\":\"VMM\",\"office\":{\"ex_number\":\"150\",\"title\":\"Kučera Petr JUDr. Ing.\",\"addresses\":[],\"default_address\":{\"share_as_rat\":null,\"share\":null,\"czechpoint_id\":\"h4kswpm\",\"birth_date\":null,\"document_type\":null,\"document_id\":null,\"document_expires\":null,\"nationality\":null,\"file_number\":null,\"file_court\":null,\"position\":null,\"account_number\":null,\"title_before\":null,\"first_name\":null,\"last_name\":null,\"title_after\":null,\"phone_number\":\"314004567\",\"phone_dial\":\"CZ\",\"company\":null,\"residential_country_code\":\"CZ\",\"residential_street\":\"náměstí starosty Pavla\",\"residential_street_number\":\"5\",\"residential_street_code\":null,\"residential_city\":\"Kladno\",\"residential_postcode\":\"272 01\",\"mailing_country_code\":null,\"mailing_street\":null,\"mailing_street_number\":null,\"mailing_street_code\":null,\"mailing_city\":null,\"mailing_postcode\":null,\"note\":null,\"vat_number\":\"CZ65402367\",\"registration_number\":\"65402367\",\"email\":\"epodatelna@eukladno.cz\",\"children\":[],\"personal_number\":null,\"representative\":false,\"hash\":\"kRO\",\"country_phone_dial\":{\"code\":\"CZ\",\"iso\":\"CZE\",\"name\":\"Czech Republic\",\"phone_code\":420},\"country_residential_address\":{\"code\":\"CZ\",\"iso\":\"CZE\",\"name\":\"Czech Republic\",\"phone_code\":420}},\"business_hours\":{\"mon\":\"10:00-11:00, 13:30-14:30\",\"tue\":\"10:00-11:00, 13:30-14:30\",\"wed\":\"10:00-11:00, 13:30-14:30\",\"thu\":\"10:00-11:00, 13:30-14:30\",\"fri\":\"00:00-00:00, 00:00-00:00\"},\"district\":\"Kladno\",\"website\":\"http://www.eukladno.cz\",\"note\":\"\",\"languages\":null,\"slug\":\"45n-kucera-petr-judr-ing\",\"hash\":\"45N\"}},\"start_at\":\"2038-01-19T13:00:07.000+00:00\",\"original_end_at\":null,\"end_at\":null,\"hit_at\":null,\"estimated_price\":1100000,\"item_price\":733333,\"minimal_bid\":null,\"current_price\":null,\"caution_deposit\":75000,\"caution_account_number\":null,\"caution_variable_symbol\":null,\"account_specific_symbol\":\"RČ nebo IČ\",\"decision_during\":null,\"result\":null,\"location_coords\":null,\"slug\":\"150ex3397-12-85-74g1n\",\"ruian\":null,\"eligible\":null,\"obligatory\":null,\"objection\":false,\"objection_end_at\":null,\"overbid\":false,\"overbid_end_at\":null,\"payment_by_credit\":false,\"type\":\"execution\",\"recommendation\":true,\"link\":\"https://www.portaldrazeb.cz/drazba/150ex3397-12-85-74g1n\",\"locked\":{\"doctype\":{\"auction_decree\":false,\"expert_report\":false,\"expert_report_appendix\":false,\"resolution_post\":true,\"resolution_pre\":false,\"resolution_award\":true,\"resolution_overbid\":true,\"resolution_paid\":true,\"resolution_defer\":true,\"resolution_cancel\":true}},\"objections\":[],\"open_objections\":0,\"replied_objections\":0,\"repeated\":0,\"repeated_order\":0}\\' data-participant=\"null\" id=\"auction-detail\" v-cloak=\"\">\\n<div class=\"row v-center-xl headline-big\">\\n<div class=\"grow-1-xl col-12-xs\">\\n<h1 v-text=\"auction.item.title\"></h1>\\n</div>\\n</div>\\n<div class=\"row no-gutters-xl no-gutters-sm no-gutters-xs\">\\n<div class=\"col-4-xl col-12-sm h-center-md standard-aside\">\\n<div class=\"row\">\\n<div class=\"col-12-xl\">\\n<aside>\\n<div class=\"gallery\">\\n<h2><i class=\"fas fa-info-circle\"></i> Údaje o dražbě</h2>\\n<div class=\"auction-type\">\\n<table>\\n<tr>\\n<th>Spisová značka</th>\\n<td v-text=\"auction.number\"></td>\\n</tr>\\n<tr>\\n<th>Typ dražby</th>\\n<td v-text=\"$t(\\'app.ui.auction.\\' + (auction.electronic ? \\'electronic\\' : \\'offline\\'))\"></td>\\n</tr>\\n<tr>\\n<th>Místo konání</th>\\n<td>\\n<span v-if=\"auction.online\" v-text=\"$t(\\'auction.origin.internal\\')\"></span>\\n<span v-if=\"auction.electronic &amp;&amp; !auction.online\" v-text=\"$t(\\'auction.origin.external\\')\"></span>\\n<span v-if=\"!auction.electronic\"><a href=\"#address\" v-text=\"$t(\\'app.ui.show\\')\"></a></span>\\n</td>\\n</tr>\\n</table>\\n</div>\\n<div class=\"col-12-xl\">\\n<a target=\"_blank\" v-if=\"mainImage(auction)\">\\n<img :alt=\"auction.item.title\" :src=\"mainImage(auction)\" :title=\"auction.item.title\"/>\\n</a>\\n</div>\\n<div class=\"viewer\" ref=\"viewer\" v-viewer.static=\"{inline: false}\">\\n<div class=\"row no-gutters-xl gallery-preview\">\\n<template v-for=\"(img, key) in toArray(auction.images)\">\\n<div class=\"col-4-xl\" v-show=\"key &gt; 0 &amp;&amp; key &lt; 4\">\\n<a :href=\"thumbPath(img.pathname, \\'large\\')\" target=\"_blank\">\\n<img :alt=\"auction.item.title\" :data-src=\"thumbPath(img.pathname, \\'large\\')\" :key=\"key\" :src=\"thumbPath(img.pathname, \\'medium\\')\" :title=\"auction.item.title\"/>\\n</a>\\n</div>\\n</template>\\n</div>\\n</div>\\n</div>\\n<div class=\"auction-location\" v-if=\"auction.item.ruian\">\\n<h2><i class=\"fas fa-location\"></i> Adresa</h2>\\n<table>\\n<tr v-if=\"auction.item.ruian.county_name\">\\n<th>Okres</th>\\n<td v-text=\"auction.item.ruian.county_name\"></td>\\n</tr>\\n<tr v-if=\"auction.item.ruian.city_name\">\\n<th>Město</th>\\n<td v-text=\"auction.item.ruian.city_name\"></td>\\n</tr>\\n<tr v-if=\"auction.item.ruian.adm\">\\n<th>Kód ADM</th>\\n<td v-text=\"auction.item.ruian.adm\"></td>\\n</tr>\\n<tr v-if=\"auction.item.ruian.adm\">\\n<th>Adresa</th>\\n<td v-text=\"join([auction.item.ruian.house_number, auction.item.ruian.street_name, auction.item.ruian.district_name], \\' \\')\"></td>\\n</tr>\\n</table>\\n</div>\\n<div class=\"auctioneer-info\" v-if=\"auction.auctioneer_office\">\\n<h2><i class=\"fas fa-gavel\"></i> Dražebník</h2>\\n<ul>\\n<li>Obvod: <span v-text=\"auction.auctioneer_office.district\"></span></li>\\n<li><strong v-text=\"auction.auctioneer_office.title\"></strong></li>\\n<li v-text=\"join([\\n                                            auction.auctioneer_office.default_address.title_before,\\n                                            auction.auctioneer_office.default_address.first_name,\\n                                            auction.auctioneer_office.default_address.last_name,\\n                                            auction.auctioneer_office.default_address.title_after\\n                                            ], \\' \\')\"></li>\\n<li>\\n<span v-text=\"join([\\n                                            auction.auctioneer_office.default_address.residential_street,\\n                                            auction.auctioneer_office.default_address.residential_street_number,\\n                                            ], \\' \\')\"></span>\\n<span v-if=\"auction.auctioneer_office.default_address.residential_street_code\"> / {{ auction.auctioneer_office.default_address.residential_street_code }}</span>\\n</li>\\n<li v-text=\"join([\\n                                            auction.auctioneer_office.default_address.residential_city,\\n                                            auction.auctioneer_office.default_address.residential_postcode,\\n                                            ], \\' \\')\">\\n</li>\\n</ul>\\n<h2><i class=\"fas fa-phone\"></i> Zodpovědná osoba</h2>\\n<ul>\\n<li v-text=\"join([\\n                                            auction.responsible_person.default_address.title_before,\\n                                            auction.responsible_person.default_address.first_name,\\n                                            auction.responsible_person.default_address.last_name,\\n                                            auction.responsible_person.default_address.title_after\\n                                            ], \\' \\')\"></li>\\n<li>\\n<a :href=\"\\'mailto:\\' + auction.responsible_person.email\" v-text=\"auction.responsible_person.email\"></a>\\n</li>\\n<li v-if=\"auction.responsible_person.default_address.phone_number\">\\n<i class=\"fal fa-phone\"></i>\\n<a :href=\"\\'tel:+\\'+auction.responsible_person.default_address.country_phone_dial.phone_code + auction.responsible_person.default_address.phone_number\" v-text=\"\\'+\\'+auction.responsible_person.default_address.country_phone_dial.phone_code + auction.responsible_person.default_address.phone_number\"></a>\\n</li>\\n</ul>\\n</div>\\n<div class=\"business-hours\" v-if=\"size(auction.auctioneer_office.business_hours) &gt; 0\">\\n<h2><i class=\"fas fa-clock\"></i> úřední hodiny</h2>\\n<table v-if=\"auction.auctioneer_office?.business_hours?.mon &amp;&amp; \\'00:00\\' !== auction.auctioneer_office.business_hours.mon.substring(0,5)\">\\n<tr>\\n<th>Pondělí</th>\\n<td v-text=\"printDefault(auction.auctioneer_office.business_hours.mon, \\'zavřeno\\')\"></td>\\n</tr>\\n<tr>\\n<th>Úterý</th>\\n<td v-text=\"printDefault(auction.auctioneer_office.business_hours.tue, \\'zavřeno\\')\"></td>\\n</tr>\\n<tr>\\n<th>Středa</th>\\n<td v-text=\"printDefault(auction.auctioneer_office.business_hours.wed, \\'zavřeno\\')\"></td>\\n</tr>\\n<tr>\\n<th>Čtvrtek</th>\\n<td v-text=\"printDefault(auction.auctioneer_office.business_hours.thu, \\'zavřeno\\')\"></td>\\n</tr>\\n<tr>\\n<th>Pátek</th>\\n<td v-text=\"printDefault(auction.auctioneer_office.business_hours.fri, \\'zavřeno\\')\"></td>\\n</tr>\\n</table>\\n</div>\\n<div class=\"attachments\" v-if=\"size(auction.documents) &gt; 0\">\\n<h2><i class=\"fas fa-paperclip\"></i> Přílohy ke dražbě</h2>\\n<ul>\\n<li v-for=\"(document, key, index) in auction.documents\" v-if=\"canViewDocument(document)\">\\n<el-tooltip :content=\"document.original_name\" effect=\"dark\" placement=\"bottom\">\\n<a :href=\"generateUrl(\\'web.download.auction_document\\', { \\'slug\\' : document.hash })\" target=\"_blank\">\\n<i class=\"fal fa-file-pdf\"></i>\\n<span>\\n                                                         {{ document.original_name }} ({{ document.updated_at | luxon({ clientFormat: \\'dd.MM.yyyy HH:mm\\', serverFormat: \\'iso\\', clientZone: timezone() }) }}) \\n                                                    </span>\\n</a>\\n</el-tooltip>\\n</li>\\n</ul>\\n</div>\\n<div class=\"attachments\" v-if=\"!isEmpty(participant) &amp;&amp; size(participant.documents) &gt; 0\">\\n<el-tooltip content=\"Vaše dokumenty k prokázání předkupního práva nebo povinného, vidíte je pouze Vy a příslušný dražebník.\\n\" effect=\"dark\" placement=\"top\">\\n<h2><i class=\"fas fa-paperclip\"></i> Dokumenty k přihlášení</h2>\\n</el-tooltip>\\n<ul>\\n<li v-for=\"document in participant.documents\">\\n<a :href=\"generateUrl(\\'web.download.participant_document\\', { \\'slug\\' : document.hash })\" style=\"word-break: break-all;\" target=\"_blank\">\\n<i class=\"fal fa-file-pdf\"></i>\\n<span v-text=\"document.original_name\"></span>\\n</a>\\n</li>\\n</ul>\\n</div>\\n</aside>\\n</div>\\n</div>\\n</div>\\n<div class=\"col-8-xl col-12-sm padding-20\">\\n<flash ref=\"flash\"></flash>\\n<div v-loading=\"loading.auction\">\\n<div :class=\"[\\'auction-start\\', {wining: isMyBidHighest}]\" v-if=\"auction.online\">\\n<i class=\"fal fa-clock\" v-if=\"countdown\"></i>\\n<span class=\"timer__header\" v-if=\"countdownHeader\" v-text=\"countdownHeader\"></span>\\n<span class=\"timer__duration\" v-if=\"getCountdownTarget() &gt; 0 &amp;&amp; countdown\">\\n<span v-html=\"formatDuration(formatSeconds(getCountdownTarget(), \\'SSS\\'))\" v-if=\"findCountdownTarget(auction)\"></span>\\n</span>\\n<span :class=\"[\\'timer__footer\\', {timer__big: !countdown}]\" v-text=\"countdownFooter\"></span>\\n<span v-if=\"hasObjection\" v-text=\"\\'Byla podána námitka.\\'\"></span>\\n</div>\\n<div class=\"progress-wrapper\" v-if=\"auction.online\" v-show=\"idleTimer\">\\n<el-progress :percentage=\"remainingIdlePercentage()\" :show-text=\"false\" :stroke-width=\"6\" color=\"#CD171A\"></el-progress>\\n<small>obnovení stránky z důvodu neaktivity za <span v-text=\"refreshRemaining\"></span> sekund</small>\\n</div>\\n<div class=\"row auction-join-wrapper\" v-if=\"joinAuctionPossible\">\\n<div class=\"col-6-xl col-12-xs\">\\n<p>Pro přihlášení do dražby se musíte přihlásit do svého uživatelského účtu a být ověřeným uživatelem.</p>\\n<div class=\"row h-center-xl\">\\n<a class=\"el-button el-button--default\" href=\"/login/prihlaseni\"><i class=\"fal fa-sign-in-alt\"></i> přihlášení</a>\\n</div>\\n</div>\\n<div class=\"col-6-xl col-12-xs\">\\n<p>Pokud uživatelský účet ještě nemáte, tak se co nejdříve zaregistrujte, ověření Vaší totožnosti může trvat i několik dní.</p>\\n<div class=\"row h-center-xl\">\\n<a class=\"el-button el-button--default\" href=\"/registrace\"><i class=\"fal fa-user-plus\"></i> registrace</a>\\n</div>\\n</div>\\n</div>\\n<div class=\"bids-history auction-content\" v-if=\"displayBidsHistory\">\\n<el-collapse value=\"1\">\\n<el-collapse-item name=\"1\">\\n<template slot=\"title\">\\n<strong>\\n                                        Historie příhozů\\n                                    </strong>\\n</template>\\n<h2 class=\"bids-history-headline\">\\n<div>Historie příhozů</div>\\n<span>\\n<small>Počet účastníků: <strong v-text=\"auction.participants_count\"></strong></small>\\n<small>Počet příhozů: <strong v-text=\"size(auction.bids)\"></strong></small>\\n</span>\\n</h2>\\n<el-table :data=\"auction.bids\" :row-class-name=\"rowClassName\" v-if=\"size(auction.bids) &gt; 0\">\\n<el-table-column label=\"unikátní id\" prop=\"type\">\\n<template slot-scope=\"scope\">\\n<span v-if=\"isParticipantMyself(scope.row.participant.hash)\">\\n<strong v-text=\"scope.row.participant.hash\"></strong> váš příhoz\\n                                    </span>\\n<span v-else=\"\" v-text=\"scope.row.participant.hash\"></span>\\n</template>\\n</el-table-column>\\n<el-table-column label=\"typ dražitele\" prop=\"type\">\\n<template slot-scope=\"scope\">\\n<div :title=\"scope.row.participant.accepted_as\">\\n<span v-if=\"\\'preemption\\' == scope.row.participant.accepted_as\"><i class=\"fal fa-user-crown\"></i> předkupní právo</span>\\n<span v-else=\"\"><i class=\"fal fa-user\"></i> dražitel</span>\\n</div>\\n</template>\\n</el-table-column>\\n<el-table-column label=\"aktuální cena\" prop=\"target_price\">\\n<template slot-scope=\"scope\">\\n<span v-text=\"formatPrice(scope.row.target_price)\"></span>\\n</template>\\n</el-table-column>\\n<el-table-column label=\"datum a čas podání\" prop=\"\">\\n<template slot-scope=\"scope\">\\n<small v-if=\"scope.row.created_at\">\\n                                                {{ scope.row.created_at | luxon({ clientFormat: \\'dd.MM.yyyy HH:mm:ss.u\\', serverFormat: \\'iso\\', clientZone: timezone() }) }}\\n                                            </small>\\n</template>\\n</el-table-column>\\n</el-table>\\n</el-collapse-item>\\n</el-collapse>\\n</div>\\n<div class=\"auction-content\" v-if=\"size(auction.objections) &gt; 0\">\\n<el-collapse value=\"1\">\\n<el-collapse-item name=\"1\">\\n<template slot=\"title\">\\n<strong>\\n                                            Námitky k dražbě\\n                                        </strong>\\n</template>\\n<h2 class=\"bids-history-headline\">\\n<div>Námitky k dražbě</div>\\n<span>\\n<small>Počet námitek: <strong v-text=\"size(auction.objections)\"></strong></small>\\n<small>Počet námitek v tomto kole: <strong v-text=\"auction.context.objection_round.objections\"></strong></small>\\n</span>\\n</h2>\\n<div class=\"auction-content objections\">\\n<div :class=\"[{success: objection.status === \\'accepted\\', fail: objection.status === \\'rejected\\'}]\" v-for=\"objection in auction.objections\">\\n<el-alert :closable=\"false\" :type=\"objectionClassName(objection)\">\\n<template>\\n<h4>Text námitky</h4>\\n<p v-text=\"objection.participant_text\"></p>\\n<h4 v-if=\"objection.auctioneer_text\">Odpověď dražebníka</h4>\\n<time :datetime=\"objection.replied_at\" v-if=\"objection.replied_at\" v-luxon:meds=\"objection.replied_at\"></time>\\n<p v-if=\"objection.auctioneer_text\" v-text=\"objection.auctioneer_text\"></p>\\n</template>\\n<template slot=\"title\">\\n<h3>Námitka od\\n                                                        <i class=\"fal fa-user-crown\" v-if=\"\\'preemption\\' == objection.participant.accepted_as\"></i>\\n<i class=\"fal fa-user\" v-else=\"\"></i>\\n<span v-if=\"isParticipantMyself(objection.participant.hash)\">\\n<strong v-text=\"objection.participant.hash\"></strong> (Vaše podání)</span>\\n<span v-else=\"\" v-text=\"objection.participant.hash\"></span>,\\n                                                        čas podání\\n                                                        <span>\\n                                            {{ objection.created_at | luxon({ clientFormat: \\'dd.MM.yyyy HH:mm:ss\\', serverFormat: \\'iso\\', clientZone: timezone() }) }}\\n                                        </span>\\n</h3>\\n<time :datetime=\"objection.created_at\" v-luxon:meds=\"objection.created_at\"></time>\\n</template>\\n</el-alert>\\n</div>\\n</div>\\n</el-collapse-item>\\n</el-collapse>\\n</div>\\n<div class=\"row no-gutters-xl no-gutters-xs auction-info auction-content\">\\n<div class=\"col-6-xl col-12-xs\">\\n<div>\\n<h2><i class=\"fas fa-info-circle\"></i> Informace k dražbě</h2>\\n<table>\\n<tbody>\\n<tr>\\n<th>Stav dražby:</th>\\n<td v-text=\"$t(\\'app.ui.auction.status_\\' + auction.status)\"></td>\\n</tr>\\n<tr>\\n<th>Typ dražby:</th>\\n<td v-text=\"$t(\\'app.ui.auction.\\' + (auction.electronic ? \\'electronic\\' : \\'offline\\'))\"></td>\\n</tr>\\n<tr>\\n<th>Předmět dražby:</th>\\n<td v-text=\" $t(\\'app.ui.asset.\\' + auction.item.type)\"></td>\\n</tr>\\n<tr>\\n<th>Druh dražby:</th>\\n<td v-text=\"$t(\\'app.ui.auction.\\' + (auction.voluntary ? \\'voluntary\\' : \\'involuntary\\') + \\'_\\' + auction.type)\"></td>\\n</tr>\\n<tr>\\n<th>Spisová značka:</th>\\n<td v-text=\"printDefault(auction.number, \\'Viz dražební vyhláška\\')\"></td>\\n</tr>\\n<tr>\\n<th>Odhadní cena:</th>\\n<td>\\n<span v-if=\"auction.estimated_price\" v-text=\"printDefault(formatPrice(auction.estimated_price), \\'Viz dražební vyhláška\\')\"></span>\\n<span v-else=\"\">Viz dražební vyhláška</span>\\n</td>\\n</tr>\\n<tr>\\n<th>Nejnižší podání:</th>\\n<td>\\n<span v-if=\"auction.item_price\" v-text=\"printDefault(formatPrice(auction.item_price), \\'Viz dražební vyhláška\\')\"></span>\\n<span v-else=\"\">Viz dražební vyhláška</span>\\n</td>\\n</tr>\\n<tr>\\n<th>Minimální příhoz:</th>\\n<td>\\n<span v-if=\"auction.minimal_bid\" v-text=\"printDefault(formatPrice(auction.minimal_bid), \\'Viz dražební vyhláška\\')\"></span>\\n<span v-else=\"\">Viz dražební vyhláška</span>\\n</td>\\n</tr>\\n<tr v-if=\"auction.context.objection_round &amp;&amp; auction.context.objection_round.continue_at\">\\n<th>Čas pokračování dražby:</th>\\n<td>\\n<span>\\n                                                {{ auction.context.objection_round.continue_at | luxon({ clientFormat: \\'dd.MM.yyyy HH:mm:ss\\', serverFormat: \\'iso\\', clientZone: timezone() }) }}\\n                                                </span>\\n</td>\\n</tr>\\n<tr>\\n<th>Čas začátku dražby:</th>\\n<td>\\n<span v-if=\"auction.start_at\">\\n                                                {{ auction.start_at | luxon({ clientFormat: \\'dd.MM.yyyy HH:mm:ss\\', serverFormat: \\'iso\\', clientZone: timezone() }) }}\\n                                                </span>\\n</td>\\n</tr>\\n<tr v-if=\"auction.original_end_at &amp;&amp; auction.online\">\\n<th>Čas konce dražby:</th>\\n<td>\\n<span>\\n                                                    {{ auction.original_end_at | luxon({ clientFormat: \\'dd.MM.yyyy HH:mm:ss\\', serverFormat: \\'iso\\', clientZone: timezone() }) }}\\n                                                </span>\\n</td>\\n</tr>\\n<tr v-if=\"auction.objection_end_at &amp;&amp; auction.online &amp;&amp; \\'objections\\' == auction.status\">\\n<th>Čas ukončení námitek:</th>\\n<td>\\n                                                {{ auction.objection_end_at | luxon({ clientFormat: \\'dd.MM.yyyy HH:mm:ss\\', serverFormat: \\'iso\\', clientZone: timezone() }) }}\\n                                            </td>\\n</tr>\\n<template v-if=\"auction.online &amp;&amp; auction.result\">\\n<tr>\\n<th>Čas ukončení dražby:</th>\\n<td>\\n<span>\\n                                                {{ auction.end_at | luxon({ clientFormat: \\'dd.MM.yyyy HH:mm:ss\\', serverFormat: \\'iso\\', clientZone: timezone() }) }}\\n                                                </span>\\n</td>\\n</tr>\\n<tr>\\n<th>Nejvyšší podání:</th>\\n<td v-if=\"auction.result.status === \\'unbidded\\'\">Nebylo</td>\\n<td v-else=\"\">\\n                                                    (<strong v-text=\"auction.result.winner.participant_id\"></strong>)\\n                                                    <span v-text=\"formatPrice(auction.result.winner.target_price)\"></span>\\n</td>\\n</tr>\\n</template>\\n<tr>\\n<th>Místo konání:</th>\\n<td v-if=\"!auction.electronic\">\\n<a href=\"#address\" v-if=\"auction.ruian\" v-text=\"$t(\\'app.ui.show\\')\"></a>\\n<span v-else=\"\">Viz dražební vyhláška</span>\\n</td>\\n<td v-else=\"\">\\n<span v-if=\"auction.online\" v-text=\"$t(\\'auction.origin.internal\\')\"></span>\\n<span v-else=\"\" v-text=\"$t(\\'auction.origin.external\\')\"></span>\\n</td>\\n</tr>\\n</tbody>\\n</table>\\n</div>\\n</div>\\n<div class=\"col-6-xl col-12-xs\">\\n<div v-if=\"\\'bidding\\' == auction.status || \\'objections\\' === auction.status\">\\n<h2><i class=\"fas fa-spin fa-spinner-third\"></i> Průběh dražby</h2>\\n<table>\\n<tbody>\\n<tr>\\n<th>Aktuální nejvyšší podání:</th>\\n<td v-if=\"latestBid\">\\n<div>\\n<span v-if=\"isParticipantMyself(latestBid.participant.hash)\">\\n<strong v-text=\"latestBid.participant.hash\"></strong> váš příhoz\\n                                                    </span>\\n<span v-else=\"\" v-text=\"latestBid.participant.hash\"></span>\\n<i class=\"fal fa-user-crown\" v-if=\"\\'preemption\\' == latestBid.participant.accepted_as\"></i>\\n<i class=\"fal fa-user\" v-else=\"\"></i>\\n<span v-text=\"formatPrice(latestBid.target_price)\"></span>\\n</div>\\n</td>\\n<td v-else=\"\">\\n                                                Nebylo\\n                                            </td>\\n</tr>\\n<tr>\\n<th>Minimální příhoz:</th>\\n<td v-text=\"formatPrice(auction.minimal_bid)\"></td>\\n</tr>\\n</tbody>\\n</table>\\n</div>\\n<div>\\n<h2><i class=\"fas fa-exclamation-square\"></i> Úhrada dražební jistoty</h2>\\n<table>\\n<tbody>\\n<tr>\\n<th>Dražební jistota:</th>\\n<td v-text=\"printDefault(formatPrice(auction.caution_deposit), \\'Viz dražební vyhláška\\')\"></td>\\n</tr>\\n<tr>\\n<th>Bank. účet dražebníka:</th>\\n<td v-text=\"printDefault(auction.caution_account_number, \\'Viz dražební vyhláška\\')\"></td>\\n</tr>\\n<tr>\\n<th>Variabilní symbol:</th>\\n<td v-text=\"printDefault(auction.caution_variable_symbol, \\'Viz dražební vyhláška\\')\"></td>\\n</tr>\\n<tr>\\n<th>Specifický symbol:</th>\\n<td v-text=\"printDefault(auction.account_specific_symbol, \\'Viz dražební vyhláška\\')\"></td>\\n</tr>\\n</tbody>\\n</table>\\n<ol>\\n<li>Dražební jistotu uhraďte na bankovní účet dražebníka, dle dražební vyhlášky.</li>\\n<li>Přihlaste se k dražbě a úhradu dražební jistoty oznamte na kontaktní e-mail dražebníka.</li>\\n<li>Vydražiteli se dražební jistota započítává, ostatním se vrací.</li>\\n</ol>\\n</div>\\n</div>\\n</div>\\n<div class=\"bidding-wrapper auction-content\">\\n<div class=\"auction-description textblock\" v-if=\"auction.decision_during\">\\n<h2>Rozhodnutí v průběhu dražby</h2>\\n<div class=\"textblock\">\\n<p v-html=\"auction.decision_during\"></p>\\n</div>\\n</div>\\n<div class=\"auction-description textblock\">\\n<h2>Popis</h2>\\n<div class=\"textblock\">\\n<p v-html=\"auction.item.description\"></p>\\n</div>\\n</div>\\n<div class=\"auction-description textblock\" v-if=\"auction.overbid &amp;&amp; auction.result &amp;&amp; auction.result.status === \\'awarded_overbid\\'\">\\n<h2>Možnost učinit předražek</h2>\\n<div class=\"textblock\">\\n<p>Možnost učinit předražek: Nejde-li o osoby uvedené v § 336h odst. 4 o.s.ř., může každý do 15 dnů ode dne zveřejnění usnesení o příklepu soudnímu\\nexekutorovi písemně navrhnout, že vydraženou nemovitost chce nabýt alespoň za částku o čtvrtinu vyšší, než bylo nejvyšší podání (předražek).\\nPředražek lze uplatnit pouze u příslušného exekutorského úřadu, který dražbu pořádá. Pro učinění předražku není potřeba\\nregistrace na portálu www.portaldrazeb.cz.\\n</p>\\n</div>\\n</div>\\n<div class=\"auction-description textblock\" v-if=\"auction.objection &amp;&amp; !auction.result\">\\n<h2>Možnost podat námitky</h2>\\n<div class=\"textblock\">\\n<p>Možnost podat námitky</p>\\n</div>\\n</div>\\n<div class=\"auction-description textblock\" v-if=\"auction.visits\">\\n<h2>Prohlídky</h2>\\n<div class=\"textblock\">\\n<p v-html=\"auction.visits\"></p>\\n</div>\\n</div>\\n<div class=\"auction-description textblock\" v-if=\"auction.creditors\">\\n<h2>Ve lhůtě stanovené dražební vyhláškou přihlásili své pohledávky do dražby tito věřitelé:</h2>\\n<div class=\"textblock\">\\n<p v-html=\"auction.creditors\"></p>\\n</div>\\n</div>\\n<div class=\"auction-description textblock\" v-if=\"auction.item.easements\">\\n<h2>Věcná břemena</h2>\\n<div class=\"textblock\">\\n<p v-html=\"auction.item.easements\"></p>\\n</div>\\n</div>\\n<div class=\"auction-description textblock\" v-if=\"auction.preemption_right\">\\n<h2>Uplatnění předkupního práva</h2>\\n<div class=\"textblock\">\\n<p v-html=\"auction.preemption_right\"></p>\\n</div>\\n</div>\\n<div class=\"auction-description textblock\" v-if=\"auction.co_owner_right\">\\n<h2>Uplatnění spoluvlastnického práva</h2>\\n<div class=\"textblock\">\\n<p v-html=\"auction.co_owner_right\"></p>\\n</div>\\n</div>\\n<div class=\"auction-description textblock\" v-if=\"auction.accusation_of_exclusion\">\\n<h2>Žaloba na vyloučení prodávaného předmětu dražby z exekuce</h2>\\n<div class=\"textblock\">\\n<p v-html=\"auction.accusation_of_exclusion\"></p>\\n</div>\\n</div>\\n<div class=\"auction-description textblock\" v-if=\"auction.buyback_reservation\">\\n<h2>Výhrada zpětné koupě</h2>\\n<div class=\"textblock\">\\n<p v-html=\"auction.buyback_reservation\"></p>\\n</div>\\n</div>\\n<div v-if=\"auction.auctioneer_information\">\\n<h2>Informace o dražiteli</h2>\\n<div class=\"textblock\">\\n<p v-html=\"auction.auctioneer_information\"></p>\\n</div>\\n</div>\\n<div v-if=\"auction.notary_information\">\\n<h2>Informace o notáři</h2>\\n<div class=\"textblock\">\\n<p v-html=\"auction.notary_information\"></p>\\n</div>\\n</div>\\n</div>\\n<template v-if=\"auction.electronic\">\\n<div class=\"bidding-wrapper auction-content\">\\n<a name=\"address\"></a>\\n<h2>Adresa místa konání</h2>\\n<div class=\"textblock\" v-if=\"auction.online\" v-text=\"$t(\\'auction.origin.internal\\')\"></div>\\n<div class=\"textblock\" v-else=\"\" v-text=\"$t(\\'auction.origin.external\\')\"></div>\\n</div>\\n</template>\\n<template v-if=\"!auction.electronic\">\\n<div class=\"bidding-wrapper auction-content\">\\n<a name=\"address\"></a>\\n<h2>Adresa místa konání</h2>\\n<div class=\"textblock\" v-if=\"auction.ruian\">\\n<p>\\n<span v-text=\"join([auction.ruian.house_number, auction.ruian.street_name], \\' \\')\"></span>,\\n                                    <span v-text=\"join([auction.ruian.district_name, auction.ruian.city_name, auction.ruian.postcode], \\' \\')\"></span>\\n</p>\\n<div v-if=\"auction.ruian.coords\">\\n<mapycz :height=\"500\" :latitude=\"auction.ruian.coords.latitude\" :longitude=\"auction.ruian.coords.longitude\" :width=\"700\">\\n</mapycz>\\n</div>\\n</div>\\n<div class=\"textblock\" v-else-if=\"auction.location_coords\">\\n<p>\\n<span v-text=\"auction.location_district.district_name\"></span>,\\n                                    <span v-text=\"auction.location_coords.latitude\"></span>,\\n                                    <span v-text=\"auction.location_coords.longitude\"></span>\\n</p>\\n<div>\\n<mapycz :height=\"500\" :latitude=\"auction.location_coords.latitude\" :longitude=\"auction.location_coords.longitude\" :width=\"700\">\\n</mapycz>\\n</div>\\n</div>\\n</div>\\n</template>\\n<template>\\n<div class=\"bidding-wrapper auction-content\">\\n<h2>Adresa místa předmětu</h2>\\n<div class=\"textblock\" v-if=\"auction.item.ruian\">\\n<p>\\n<span v-text=\"join([auction.item.ruian.house_number, auction.item.ruian.street_name], \\' \\')\"></span>,\\n                                    <span v-text=\"join([auction.item.ruian.district_name, auction.item.ruian.city_name, auction.item.ruian.postcode], \\' \\')\"></span>\\n</p>\\n<div v-if=\"auction.item.ruian.coords\">\\n<mapycz :height=\"500\" :latitude=\"auction.item.ruian.coords.latitude\" :longitude=\"auction.item.ruian.coords.longitude\" :width=\"700\">\\n</mapycz>\\n</div>\\n</div>\\n<div class=\"textblock\" v-else-if=\"auction.item.location_coords\">\\n<p>\\n<span v-text=\"auction.item.location_district.district_name\"></span>,\\n                                    <span v-text=\"auction.item.location_coords.latitude\"></span>,\\n                                    <span v-text=\"auction.item.location_coords.longitude\"></span>\\n</p>\\n<div>\\n<mapycz :height=\"500\" :latitude=\"auction.item.location_coords.latitude\" :longitude=\"auction.item.location_coords.longitude\" :width=\"700\">\\n</mapycz>\\n</div>\\n</div>\\n</div>\\n</template>\\n</div>\\n</div>\\n</div>\\n</div>'"
      ]
     },
     "execution_count": 65,
     "metadata": {},
     "output_type": "execute_result"
    }
   ],
   "source": [
    "czech = {'\\\\u00e1': 'á',\"\\\\u010d\":\"č\",\"\\\\u010f\":\"ď\",\"\\\\u00e9\":\"é\",\"\\\\u011b\":\"ě\",\"\\\\u00ed\":\"í\",\"\\\\u0148\":\"ň\",\"\\\\u00f3\":\"ó\",\"\\\\u0159\":\"ř\",\"\\\\u0161\":\"š\",\"\\\\u0165\":\"ť\",\"\\\\u00fa\":\"ú\",\"\\\\u016f\":\"ů\",\"\\\\u00fd\":\"ý\",\"\\\\u017e\":\"ž\",\"\\\\u00c1\":\"Á\",\"\\\\u00c4\":\"Ä\",\"\\\\u010c\":\"Č\",\"\\\\u010e\":\"Ď\",\"\\\\u00c9\":\"É\",\"\\\\u011a\":\"Ě\",\"\\\\u00cd\":\"Í\",\"\\\\u0147\":\"Ň\",\"\\\\u00d3\":\"Ó\",\"\\\\u0158\":\"Ř\",\"\\\\u0160\":\"Š\",\"\\\\u0164\":\"Ť\",\"\\\\u00da\":\"Ú\",\"\\\\u016e\":\"Ů\",\"\\\\u00dd\":\"Ý\",\"\\\\u017d\":\"Ž\"}\n",
    "#necessary to translate groups of characters from the source code to Czech characters\n",
    "for x,y in czech.items():\n",
    "    auctiondata = auctiondata.replace(x, y)\n",
    "auctiondata"
   ]
  },
  {
   "cell_type": "code",
   "execution_count": null,
   "metadata": {},
   "outputs": [],
   "source": []
  },
  {
   "cell_type": "code",
   "execution_count": 66,
   "metadata": {},
   "outputs": [],
   "source": [
    "auctionslist=[]\n",
    "for i in range(len(down.auction_links_and_categories)):\n",
    "    soup = down.auction_links_and_categories[i][2]\n",
    "    auctiondata=soup.findAll(\"div\", {\"class\": \"auction\"})\n",
    "    auctiondata=str(auctiondata[0])\n",
    "    for x,y in czech.items():\n",
    "        auctiondata = auctiondata.replace(x, y)#here the source-Czech dictionary is used\n",
    "    title=auctiondata[(auctiondata.index(\"item\") + len(\"item\")+12):]\n",
    "    title=title[:title.index(\"category\")-3]                                     \n",
    "    auctioneer=auctiondata[(auctiondata.index(\"auctioneer_office\") + len(\"auctioneer_office\")+30):]\n",
    "    auctioneer=auctioneer[:auctioneer.index(\"addresses\")-3].split(\" \") \n",
    "    number=auctiondata[(auctiondata.index('voluntary')-17):(auctiondata.index('voluntary')-3)].replace(':','').replace('\"', '')\n",
    "    estimated_price=auctiondata[(auctiondata.index(\"estimated_price\") + len(\"estimated_price\")+2):]\n",
    "    estimated_price=estimated_price[:estimated_price.index(\"item_price\")-2]\n",
    "    reserve_price=auctiondata[auctiondata.index(\"item_price\")+12:]\n",
    "    reserve_price=reserve_price[:reserve_price.index(\"minimal_bid\")-2]\n",
    "    link = down.auction_links_and_categories[i][0]\n",
    "    category = down.auction_links_and_categories[i][1][0]\n",
    "    try: subcategory = down.auction_links_and_categories[i][1][1]\n",
    "    except: subcategory = \"-\"\n",
    "    \n",
    "    auction=[]\n",
    "    auction.extend([auctioneer[0],auctioneer[1],title,category,subcategory,number,estimated_price,reserve_price,link])\n",
    "    auctionslist.append(auction)\n",
    "    #print([i],sep=' ', end='', flush=\"true\")writes how many auctions it processed, just to ensure it actually does something\n",
    "    #takes a shitload of time to scrape it all(15 to 20 minutes, probably. The bottleneck is getting all those requests, so the only way to make it faster seems to be to buy better internet.)\n",
    "    "
   ]
  },
  {
   "cell_type": "code",
   "execution_count": 9,
   "metadata": {},
   "outputs": [],
   "source": [
    "import pandas as pd"
   ]
  },
  {
   "cell_type": "code",
   "execution_count": 67,
   "metadata": {
    "scrolled": true
   },
   "outputs": [
    {
     "data": {
      "text/html": [
       "<div>\n",
       "<style scoped>\n",
       "    .dataframe tbody tr th:only-of-type {\n",
       "        vertical-align: middle;\n",
       "    }\n",
       "\n",
       "    .dataframe tbody tr th {\n",
       "        vertical-align: top;\n",
       "    }\n",
       "\n",
       "    .dataframe thead th {\n",
       "        text-align: right;\n",
       "    }\n",
       "</style>\n",
       "<table border=\"1\" class=\"dataframe\">\n",
       "  <thead>\n",
       "    <tr style=\"text-align: right;\">\n",
       "      <th></th>\n",
       "      <th>Surname</th>\n",
       "      <th>Name</th>\n",
       "      <th>Title of auction</th>\n",
       "      <th>Category</th>\n",
       "      <th>Subcategory</th>\n",
       "      <th>Auction code</th>\n",
       "      <th>Estimated price</th>\n",
       "      <th>Reserve price</th>\n",
       "      <th>link</th>\n",
       "    </tr>\n",
       "  </thead>\n",
       "  <tbody>\n",
       "    <tr>\n",
       "      <th>0</th>\n",
       "      <td>Jaroš</td>\n",
       "      <td>Petr</td>\n",
       "      <td>_district\":{\"district_code\":40789,\"district_na...</td>\n",
       "      <td>Movitosti</td>\n",
       "      <td>Auto-moto</td>\n",
       "      <td>29EX4106/19-74</td>\n",
       "      <td>24000</td>\n",
       "      <td>9680</td>\n",
       "      <td>https://www.portaldrazeb.cz/drazba/129ex4106-1...</td>\n",
       "    </tr>\n",
       "    <tr>\n",
       "      <th>1</th>\n",
       "      <td>Kocián</td>\n",
       "      <td>Petr</td>\n",
       "      <td>_district\":{\"district_code\":40851,\"district_na...</td>\n",
       "      <td>Movitosti</td>\n",
       "      <td>Auto-moto</td>\n",
       "      <td>7EX13285/18-MG</td>\n",
       "      <td>680000</td>\n",
       "      <td>453333</td>\n",
       "      <td>https://www.portaldrazeb.cz/drazba/137ex13285-...</td>\n",
       "    </tr>\n",
       "    <tr>\n",
       "      <th>2</th>\n",
       "      <td>Ivanko</td>\n",
       "      <td>Igor</td>\n",
       "      <td>_district\":{\"district_code\":40606,\"district_na...</td>\n",
       "      <td>Movitosti</td>\n",
       "      <td>Auto-moto</td>\n",
       "      <td>67EX194/13-272</td>\n",
       "      <td>99000</td>\n",
       "      <td>66000</td>\n",
       "      <td>https://www.portaldrazeb.cz/drazba/167ex194-13...</td>\n",
       "    </tr>\n",
       "    <tr>\n",
       "      <th>3</th>\n",
       "      <td>Voborník</td>\n",
       "      <td>Tomáš</td>\n",
       "      <td>_district\":{\"district_code\":40592,\"district_na...</td>\n",
       "      <td>Movitosti</td>\n",
       "      <td>Auto-moto</td>\n",
       "      <td>195EX1414/20</td>\n",
       "      <td>1500000</td>\n",
       "      <td>1000000</td>\n",
       "      <td>https://www.portaldrazeb.cz/drazba/195ex1414-2...</td>\n",
       "    </tr>\n",
       "    <tr>\n",
       "      <th>4</th>\n",
       "      <td>Jaroš</td>\n",
       "      <td>Petr</td>\n",
       "      <td>_district\":{\"district_code\":40789,\"district_na...</td>\n",
       "      <td>Movitosti</td>\n",
       "      <td>Auto-moto</td>\n",
       "      <td>29EX4106/19-76</td>\n",
       "      <td>3000</td>\n",
       "      <td>1210</td>\n",
       "      <td>https://www.portaldrazeb.cz/drazba/129ex4106-1...</td>\n",
       "    </tr>\n",
       "    <tr>\n",
       "      <th>...</th>\n",
       "      <td>...</td>\n",
       "      <td>...</td>\n",
       "      <td>...</td>\n",
       "      <td>...</td>\n",
       "      <td>...</td>\n",
       "      <td>...</td>\n",
       "      <td>...</td>\n",
       "      <td>...</td>\n",
       "      <td>...</td>\n",
       "    </tr>\n",
       "    <tr>\n",
       "      <th>1122</th>\n",
       "      <td>Bohutínský</td>\n",
       "      <td>Jan</td>\n",
       "      <td>_district\":{\"district_code\":40878,\"district_na...</td>\n",
       "      <td>Nemovitosti</td>\n",
       "      <td>Rodinný dům</td>\n",
       "      <td>158EX129/14</td>\n",
       "      <td>435000</td>\n",
       "      <td>290000</td>\n",
       "      <td>https://www.portaldrazeb.cz/drazba/158ex129-14...</td>\n",
       "    </tr>\n",
       "    <tr>\n",
       "      <th>1123</th>\n",
       "      <td>Souček</td>\n",
       "      <td>Kamil</td>\n",
       "      <td>_district\":{\"district_code\":40169,\"district_na...</td>\n",
       "      <td>Nemovitosti</td>\n",
       "      <td>Rodinný dům</td>\n",
       "      <td>083EX806/15-71</td>\n",
       "      <td>210000</td>\n",
       "      <td>0</td>\n",
       "      <td>https://www.portaldrazeb.cz/drazba/083ex806-15...</td>\n",
       "    </tr>\n",
       "    <tr>\n",
       "      <th>1124</th>\n",
       "      <td>Bohutínský</td>\n",
       "      <td>Jan</td>\n",
       "      <td>_district\":{\"district_code\":40606,\"district_na...</td>\n",
       "      <td>Nemovitosti</td>\n",
       "      <td>Rodinný dům</td>\n",
       "      <td>158EX1248/13</td>\n",
       "      <td>1750000</td>\n",
       "      <td>1166667</td>\n",
       "      <td>https://www.portaldrazeb.cz/drazba/158ex1248-1...</td>\n",
       "    </tr>\n",
       "    <tr>\n",
       "      <th>1125</th>\n",
       "      <td>Tvrdková</td>\n",
       "      <td>Jana</td>\n",
       "      <td>_district\":{\"district_code\":40169,\"district_na...</td>\n",
       "      <td>Nemovitosti</td>\n",
       "      <td>Rodinný dům</td>\n",
       "      <td>095EX2043/13</td>\n",
       "      <td>0</td>\n",
       "      <td>0</td>\n",
       "      <td>https://www.portaldrazeb.cz/drazba/095ex2043-1...</td>\n",
       "    </tr>\n",
       "    <tr>\n",
       "      <th>1126</th>\n",
       "      <td>Kučera</td>\n",
       "      <td>Petr</td>\n",
       "      <td>_district\":{\"district_code\":40355,\"district_na...</td>\n",
       "      <td>Nemovitosti</td>\n",
       "      <td>Rodinný dům</td>\n",
       "      <td>50EX3397/12-85</td>\n",
       "      <td>1100000</td>\n",
       "      <td>733333</td>\n",
       "      <td>https://www.portaldrazeb.cz/drazba/150ex3397-1...</td>\n",
       "    </tr>\n",
       "  </tbody>\n",
       "</table>\n",
       "<p>1127 rows × 9 columns</p>\n",
       "</div>"
      ],
      "text/plain": [
       "         Surname   Name                                   Title of auction  \\\n",
       "0          Jaroš   Petr  _district\":{\"district_code\":40789,\"district_na...   \n",
       "1         Kocián   Petr  _district\":{\"district_code\":40851,\"district_na...   \n",
       "2         Ivanko   Igor  _district\":{\"district_code\":40606,\"district_na...   \n",
       "3       Voborník  Tomáš  _district\":{\"district_code\":40592,\"district_na...   \n",
       "4          Jaroš   Petr  _district\":{\"district_code\":40789,\"district_na...   \n",
       "...          ...    ...                                                ...   \n",
       "1122  Bohutínský    Jan  _district\":{\"district_code\":40878,\"district_na...   \n",
       "1123      Souček  Kamil  _district\":{\"district_code\":40169,\"district_na...   \n",
       "1124  Bohutínský    Jan  _district\":{\"district_code\":40606,\"district_na...   \n",
       "1125    Tvrdková   Jana  _district\":{\"district_code\":40169,\"district_na...   \n",
       "1126      Kučera   Petr  _district\":{\"district_code\":40355,\"district_na...   \n",
       "\n",
       "         Category  Subcategory    Auction code Estimated price Reserve price  \\\n",
       "0       Movitosti    Auto-moto  29EX4106/19-74           24000          9680   \n",
       "1       Movitosti    Auto-moto  7EX13285/18-MG          680000        453333   \n",
       "2       Movitosti    Auto-moto  67EX194/13-272           99000         66000   \n",
       "3       Movitosti    Auto-moto    195EX1414/20         1500000       1000000   \n",
       "4       Movitosti    Auto-moto  29EX4106/19-76            3000          1210   \n",
       "...           ...          ...             ...             ...           ...   \n",
       "1122  Nemovitosti  Rodinný dům     158EX129/14          435000        290000   \n",
       "1123  Nemovitosti  Rodinný dům  083EX806/15-71          210000             0   \n",
       "1124  Nemovitosti  Rodinný dům    158EX1248/13         1750000       1166667   \n",
       "1125  Nemovitosti  Rodinný dům    095EX2043/13               0             0   \n",
       "1126  Nemovitosti  Rodinný dům  50EX3397/12-85         1100000        733333   \n",
       "\n",
       "                                                   link  \n",
       "0     https://www.portaldrazeb.cz/drazba/129ex4106-1...  \n",
       "1     https://www.portaldrazeb.cz/drazba/137ex13285-...  \n",
       "2     https://www.portaldrazeb.cz/drazba/167ex194-13...  \n",
       "3     https://www.portaldrazeb.cz/drazba/195ex1414-2...  \n",
       "4     https://www.portaldrazeb.cz/drazba/129ex4106-1...  \n",
       "...                                                 ...  \n",
       "1122  https://www.portaldrazeb.cz/drazba/158ex129-14...  \n",
       "1123  https://www.portaldrazeb.cz/drazba/083ex806-15...  \n",
       "1124  https://www.portaldrazeb.cz/drazba/158ex1248-1...  \n",
       "1125  https://www.portaldrazeb.cz/drazba/095ex2043-1...  \n",
       "1126  https://www.portaldrazeb.cz/drazba/150ex3397-1...  \n",
       "\n",
       "[1127 rows x 9 columns]"
      ]
     },
     "execution_count": 67,
     "metadata": {},
     "output_type": "execute_result"
    }
   ],
   "source": [
    "auctions = pd.DataFrame(auctionslist)\n",
    "auctions.columns = [\"Surname\",\"Name\",\"Title of auction\",\"Category\",\"Subcategory\",\"Auction code\",\"Estimated price\",\"Reserve price\",\"link\"]\n",
    "auctions"
   ]
  },
  {
   "cell_type": "code",
   "execution_count": 15,
   "metadata": {},
   "outputs": [],
   "source": [
    "auctions.to_csv('auctionslist.csv')"
   ]
  }
 ],
 "metadata": {
  "kernelspec": {
   "display_name": "Python 3",
   "language": "python",
   "name": "python3"
  },
  "language_info": {
   "codemirror_mode": {
    "name": "ipython",
    "version": 3
   },
   "file_extension": ".py",
   "mimetype": "text/x-python",
   "name": "python",
   "nbconvert_exporter": "python",
   "pygments_lexer": "ipython3",
   "version": "3.8.5"
  }
 },
 "nbformat": 4,
 "nbformat_minor": 4
}
